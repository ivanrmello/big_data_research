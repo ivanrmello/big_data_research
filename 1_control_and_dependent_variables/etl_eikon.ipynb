{
  "nbformat": 4,
  "nbformat_minor": 0,
  "metadata": {
    "colab": {
      "provenance": []
    },
    "kernelspec": {
      "name": "python3",
      "display_name": "Python 3"
    },
    "language_info": {
      "name": "python"
    }
  },
  "cells": [
    {
      "cell_type": "markdown",
      "metadata": {
        "id": "Ht6eOCsBGcuS"
      },
      "source": [
        "<h1> Hello! :)</h1>"
      ]
    },
    {
      "cell_type": "markdown",
      "metadata": {
        "id": "A1DDvuW9Gtck"
      },
      "source": [
        "(EN-US)\n",
        "<br>This Python script performs ETL processes on data collected using Refinitiv Eikon <br> <br>\n",
        "**Author:**  [Ivan Ribeiro Mello - Federal University of Goiás - UFG](https://www.linkedin.com/in/ivanrmello/)"
      ]
    },
    {
      "cell_type": "code",
      "execution_count": null,
      "metadata": {
        "id": "-MC77mw5wp92"
      },
      "outputs": [],
      "source": [
        "import pandas as pd"
      ]
    },
    {
      "cell_type": "markdown",
      "source": [
        "# 1) {EN-US} Transforming from Eikon format to Time Series Format <br>\n",
        "     {PT-BR} Transformando do formato Eikon para Séries Temporais"
      ],
      "metadata": {
        "id": "_5FU6rkJoxOC"
      }
    },
    {
      "cell_type": "code",
      "source": [
        "# reading columnar consolidated data\n",
        "df_columnar = pd.read_excel('/content/drive/MyDrive/Mestrado - UFG/Dissertação/Database/refinitiv_eikon/consolidated_columnar_database_updated_Brazil.xlsx',\n",
        "                            sheet_name='raw_data_header_OK_all')"
      ],
      "metadata": {
        "id": "KK1qEHOJw4IA"
      },
      "execution_count": null,
      "outputs": []
    },
    {
      "cell_type": "code",
      "source": [
        "# checking import\n",
        "df_columnar.info()"
      ],
      "metadata": {
        "colab": {
          "base_uri": "https://localhost:8080/"
        },
        "id": "sz4IXaG5xNbM",
        "outputId": "4950c76f-8dcf-4e70-c850-e3a0e3c87c26"
      },
      "execution_count": null,
      "outputs": [
        {
          "output_type": "stream",
          "name": "stdout",
          "text": [
            "<class 'pandas.core.frame.DataFrame'>\n",
            "RangeIndex: 456 entries, 0 to 455\n",
            "Columns: 179 entries, Identifier (RIC) to numero_empregados_fulltime | 2010\n",
            "dtypes: float64(172), int64(1), object(6)\n",
            "memory usage: 637.8+ KB\n"
          ]
        }
      ]
    },
    {
      "cell_type": "code",
      "source": [
        "# listing all columns to use in pandas.melt\n",
        "list(df_columnar.columns)"
      ],
      "metadata": {
        "id": "N8fa4V_CxWS4",
        "colab": {
          "base_uri": "https://localhost:8080/"
        },
        "outputId": "8880a175-5417-47a4-ed2c-787ad11cc17f"
      },
      "execution_count": null,
      "outputs": [
        {
          "output_type": "execute_result",
          "data": {
            "text/plain": [
              "['Identifier (RIC)',\n",
              " 'Company Name',\n",
              " 'Country of Exchange',\n",
              " 'TRBC Economic Sector Name',\n",
              " 'Organization Website',\n",
              " 'Organization Founded Year',\n",
              " 'Organization Founded Month',\n",
              " 'Organization Founded Day',\n",
              " 'Organization Status Code',\n",
              " 'Beta 5 Year',\n",
              " 'ativos_totais | 2022',\n",
              " 'ativos_totais | 2021',\n",
              " 'ativos_totais | 2020',\n",
              " 'ativos_totais | 2019',\n",
              " 'ativos_totais | 2018',\n",
              " 'ativos_totais | 2017',\n",
              " 'ativos_totais | 2016',\n",
              " 'ativos_totais | 2015',\n",
              " 'ativos_totais | 2014',\n",
              " 'ativos_totais | 2013',\n",
              " 'ativos_totais | 2012',\n",
              " 'ativos_totais | 2011',\n",
              " 'ativos_totais | 2010',\n",
              " 'debitos_totais | 2022',\n",
              " 'debitos_totais | 2021',\n",
              " 'debitos_totais | 2020',\n",
              " 'debitos_totais | 2019',\n",
              " 'debitos_totais | 2018',\n",
              " 'debitos_totais | 2017',\n",
              " 'debitos_totais | 2016',\n",
              " 'debitos_totais | 2015',\n",
              " 'debitos_totais | 2014',\n",
              " 'debitos_totais | 2013',\n",
              " 'debitos_totais | 2012',\n",
              " 'debitos_totais | 2011',\n",
              " 'debitos_totais | 2010',\n",
              " 'turnover | 2022',\n",
              " 'turnover | 2021',\n",
              " 'turnover | 2020',\n",
              " 'turnover | 2019',\n",
              " 'turnover | 2018',\n",
              " 'turnover | 2017',\n",
              " 'turnover | 2016',\n",
              " 'turnover | 2015',\n",
              " 'turnover | 2014',\n",
              " 'turnover | 2013',\n",
              " 'turnover | 2012',\n",
              " 'turnover | 2011',\n",
              " 'turnover | 2010',\n",
              " 'mcap | 2022',\n",
              " 'mcap | 2021',\n",
              " 'mcap | 2020',\n",
              " 'mcap | 2019',\n",
              " 'mcap | 2018',\n",
              " 'mcap | 2017',\n",
              " 'mcap | 2016',\n",
              " 'mcap | 2015',\n",
              " 'mcap | 2014',\n",
              " 'mcap | 2013',\n",
              " 'mcap | 2012',\n",
              " 'mcap | 2011',\n",
              " 'mcap | 2010',\n",
              " 'receita | 2022',\n",
              " 'receita | 2021',\n",
              " 'receita | 2020',\n",
              " 'receita | 2019',\n",
              " 'receita | 2018',\n",
              " 'receita | 2017',\n",
              " 'receita | 2016',\n",
              " 'receita | 2015',\n",
              " 'receita | 2014',\n",
              " 'receita | 2013',\n",
              " 'receita | 2012',\n",
              " 'receita | 2011',\n",
              " 'receita | 2010',\n",
              " 'beta | 2022',\n",
              " 'beta | 2021',\n",
              " 'beta | 2020',\n",
              " 'beta | 2019',\n",
              " 'beta | 2018',\n",
              " 'beta | 2017',\n",
              " 'beta | 2016',\n",
              " 'beta | 2015',\n",
              " 'beta | 2014',\n",
              " 'beta | 2013',\n",
              " 'beta | 2012',\n",
              " 'beta | 2011',\n",
              " 'beta | 2010',\n",
              " 'roa | 2022',\n",
              " 'roa | 2021',\n",
              " 'roa | 2020',\n",
              " 'roa | 2019',\n",
              " 'roa | 2018',\n",
              " 'roa | 2017',\n",
              " 'roa | 2016',\n",
              " 'roa | 2015',\n",
              " 'roa | 2014',\n",
              " 'roa | 2013',\n",
              " 'roa | 2012',\n",
              " 'roa | 2011',\n",
              " 'roa | 2010',\n",
              " 'roe | 2022',\n",
              " 'roe | 2021',\n",
              " 'roe | 2020',\n",
              " 'roe | 2019',\n",
              " 'roe | 2018',\n",
              " 'roe | 2017',\n",
              " 'roe | 2016',\n",
              " 'roe | 2015',\n",
              " 'roe | 2014',\n",
              " 'roe | 2013',\n",
              " 'roe | 2012',\n",
              " 'roe | 2011',\n",
              " 'roe | 2010',\n",
              " 'p_d | 2022',\n",
              " 'p_d | 2021',\n",
              " 'p_d | 2020',\n",
              " 'p_d | 2019',\n",
              " 'p_d | 2018',\n",
              " 'p_d | 2017',\n",
              " 'p_d | 2016',\n",
              " 'p_d | 2015',\n",
              " 'p_d | 2014',\n",
              " 'p_d | 2013',\n",
              " 'p_d | 2012',\n",
              " 'p_d | 2011',\n",
              " 'p_d | 2010',\n",
              " 'pl_equity | 2022',\n",
              " 'pl_equity | 2021',\n",
              " 'pl_equity | 2020',\n",
              " 'pl_equity | 2019',\n",
              " 'pl_equity | 2018',\n",
              " 'pl_equity | 2017',\n",
              " 'pl_equity | 2016',\n",
              " 'pl_equity | 2015',\n",
              " 'pl_equity | 2014',\n",
              " 'pl_equity | 2013',\n",
              " 'pl_equity | 2012',\n",
              " 'pl_equity | 2011',\n",
              " 'pl_equity | 2010',\n",
              " 'lucro_liquido_antes_dos_impostos | 2022',\n",
              " 'lucro_liquido_antes_dos_impostos | 2021',\n",
              " 'lucro_liquido_antes_dos_impostos | 2020',\n",
              " 'lucro_liquido_antes_dos_impostos | 2019',\n",
              " 'lucro_liquido_antes_dos_impostos | 2018',\n",
              " 'lucro_liquido_antes_dos_impostos | 2017',\n",
              " 'lucro_liquido_antes_dos_impostos | 2016',\n",
              " 'lucro_liquido_antes_dos_impostos | 2015',\n",
              " 'lucro_liquido_antes_dos_impostos | 2014',\n",
              " 'lucro_liquido_antes_dos_impostos | 2013',\n",
              " 'lucro_liquido_antes_dos_impostos | 2012',\n",
              " 'lucro_liquido_antes_dos_impostos | 2011',\n",
              " 'lucro_liquido_antes_dos_impostos | 2010',\n",
              " 'numero_empregados_csr | 2022',\n",
              " 'numero_empregados_csr | 2021',\n",
              " 'numero_empregados_csr | 2020',\n",
              " 'numero_empregados_csr | 2019',\n",
              " 'numero_empregados_csr | 2018',\n",
              " 'numero_empregados_csr | 2017',\n",
              " 'numero_empregados_csr | 2016',\n",
              " 'numero_empregados_csr | 2015',\n",
              " 'numero_empregados_csr | 2014',\n",
              " 'numero_empregados_csr | 2013',\n",
              " 'numero_empregados_csr | 2012',\n",
              " 'numero_empregados_csr | 2011',\n",
              " 'numero_empregados_csr | 2010',\n",
              " 'numero_empregados_fulltime | 2022',\n",
              " 'numero_empregados_fulltime | 2021',\n",
              " 'numero_empregados_fulltime | 2020',\n",
              " 'numero_empregados_fulltime | 2019',\n",
              " 'numero_empregados_fulltime | 2018',\n",
              " 'numero_empregados_fulltime | 2017',\n",
              " 'numero_empregados_fulltime | 2016',\n",
              " 'numero_empregados_fulltime | 2015',\n",
              " 'numero_empregados_fulltime | 2014',\n",
              " 'numero_empregados_fulltime | 2013',\n",
              " 'numero_empregados_fulltime | 2012',\n",
              " 'numero_empregados_fulltime | 2011',\n",
              " 'numero_empregados_fulltime | 2010']"
            ]
          },
          "metadata": {},
          "execution_count": 37
        }
      ]
    },
    {
      "cell_type": "code",
      "source": [
        "# defining id_vars\n",
        "id_vars = ['Identifier (RIC)',\n",
        "          'Company Name',\n",
        "          'Country of Exchange',\n",
        "          'TRBC Economic Sector Name',\n",
        "          'Organization Website',\n",
        "          'Organization Founded Year',\n",
        "          'Organization Founded Month',\n",
        "          'Organization Founded Day',\n",
        "          'Organization Status Code',\n",
        "          'Beta 5 Year']"
      ],
      "metadata": {
        "id": "tn4g4pABU74f"
      },
      "execution_count": null,
      "outputs": []
    },
    {
      "cell_type": "code",
      "source": [
        "# defining value_vars\n",
        "value_vars = ['ativos_totais | 2022',\n",
        " 'ativos_totais | 2021',\n",
        " 'ativos_totais | 2020',\n",
        " 'ativos_totais | 2019',\n",
        " 'ativos_totais | 2018',\n",
        " 'ativos_totais | 2017',\n",
        " 'ativos_totais | 2016',\n",
        " 'ativos_totais | 2015',\n",
        " 'ativos_totais | 2014',\n",
        " 'ativos_totais | 2013',\n",
        " 'ativos_totais | 2012',\n",
        " 'ativos_totais | 2011',\n",
        " 'ativos_totais | 2010',\n",
        " 'debitos_totais | 2022',\n",
        " 'debitos_totais | 2021',\n",
        " 'debitos_totais | 2020',\n",
        " 'debitos_totais | 2019',\n",
        " 'debitos_totais | 2018',\n",
        " 'debitos_totais | 2017',\n",
        " 'debitos_totais | 2016',\n",
        " 'debitos_totais | 2015',\n",
        " 'debitos_totais | 2014',\n",
        " 'debitos_totais | 2013',\n",
        " 'debitos_totais | 2012',\n",
        " 'debitos_totais | 2011',\n",
        " 'debitos_totais | 2010',\n",
        " 'turnover | 2022',\n",
        " 'turnover | 2021',\n",
        " 'turnover | 2020',\n",
        " 'turnover | 2019',\n",
        " 'turnover | 2018',\n",
        " 'turnover | 2017',\n",
        " 'turnover | 2016',\n",
        " 'turnover | 2015',\n",
        " 'turnover | 2014',\n",
        " 'turnover | 2013',\n",
        " 'turnover | 2012',\n",
        " 'turnover | 2011',\n",
        " 'turnover | 2010',\n",
        " 'mcap | 2022',\n",
        " 'mcap | 2021',\n",
        " 'mcap | 2020',\n",
        " 'mcap | 2019',\n",
        " 'mcap | 2018',\n",
        " 'mcap | 2017',\n",
        " 'mcap | 2016',\n",
        " 'mcap | 2015',\n",
        " 'mcap | 2014',\n",
        " 'mcap | 2013',\n",
        " 'mcap | 2012',\n",
        " 'mcap | 2011',\n",
        " 'mcap | 2010',\n",
        " 'receita | 2022',\n",
        " 'receita | 2021',\n",
        " 'receita | 2020',\n",
        " 'receita | 2019',\n",
        " 'receita | 2018',\n",
        " 'receita | 2017',\n",
        " 'receita | 2016',\n",
        " 'receita | 2015',\n",
        " 'receita | 2014',\n",
        " 'receita | 2013',\n",
        " 'receita | 2012',\n",
        " 'receita | 2011',\n",
        " 'receita | 2010',\n",
        " 'beta | 2022',\n",
        " 'beta | 2021',\n",
        " 'beta | 2020',\n",
        " 'beta | 2019',\n",
        " 'beta | 2018',\n",
        " 'beta | 2017',\n",
        " 'beta | 2016',\n",
        " 'beta | 2015',\n",
        " 'beta | 2014',\n",
        " 'beta | 2013',\n",
        " 'beta | 2012',\n",
        " 'beta | 2011',\n",
        " 'beta | 2010',\n",
        " 'roa | 2022',\n",
        " 'roa | 2021',\n",
        " 'roa | 2020',\n",
        " 'roa | 2019',\n",
        " 'roa | 2018',\n",
        " 'roa | 2017',\n",
        " 'roa | 2016',\n",
        " 'roa | 2015',\n",
        " 'roa | 2014',\n",
        " 'roa | 2013',\n",
        " 'roa | 2012',\n",
        " 'roa | 2011',\n",
        " 'roa | 2010',\n",
        " 'roe | 2022',\n",
        " 'roe | 2021',\n",
        " 'roe | 2020',\n",
        " 'roe | 2019',\n",
        " 'roe | 2018',\n",
        " 'roe | 2017',\n",
        " 'roe | 2016',\n",
        " 'roe | 2015',\n",
        " 'roe | 2014',\n",
        " 'roe | 2013',\n",
        " 'roe | 2012',\n",
        " 'roe | 2011',\n",
        " 'roe | 2010',\n",
        " 'p_d | 2022',\n",
        " 'p_d | 2021',\n",
        " 'p_d | 2020',\n",
        " 'p_d | 2019',\n",
        " 'p_d | 2018',\n",
        " 'p_d | 2017',\n",
        " 'p_d | 2016',\n",
        " 'p_d | 2015',\n",
        " 'p_d | 2014',\n",
        " 'p_d | 2013',\n",
        " 'p_d | 2012',\n",
        " 'p_d | 2011',\n",
        " 'p_d | 2010',\n",
        " 'pl_equity | 2022',\n",
        " 'pl_equity | 2021',\n",
        " 'pl_equity | 2020',\n",
        " 'pl_equity | 2019',\n",
        " 'pl_equity | 2018',\n",
        " 'pl_equity | 2017',\n",
        " 'pl_equity | 2016',\n",
        " 'pl_equity | 2015',\n",
        " 'pl_equity | 2014',\n",
        " 'pl_equity | 2013',\n",
        " 'pl_equity | 2012',\n",
        " 'pl_equity | 2011',\n",
        " 'pl_equity | 2010',\n",
        " 'lucro_liquido_antes_dos_impostos | 2022',\n",
        " 'lucro_liquido_antes_dos_impostos | 2021',\n",
        " 'lucro_liquido_antes_dos_impostos | 2020',\n",
        " 'lucro_liquido_antes_dos_impostos | 2019',\n",
        " 'lucro_liquido_antes_dos_impostos | 2018',\n",
        " 'lucro_liquido_antes_dos_impostos | 2017',\n",
        " 'lucro_liquido_antes_dos_impostos | 2016',\n",
        " 'lucro_liquido_antes_dos_impostos | 2015',\n",
        " 'lucro_liquido_antes_dos_impostos | 2014',\n",
        " 'lucro_liquido_antes_dos_impostos | 2013',\n",
        " 'lucro_liquido_antes_dos_impostos | 2012',\n",
        " 'lucro_liquido_antes_dos_impostos | 2011',\n",
        " 'lucro_liquido_antes_dos_impostos | 2010',\n",
        " 'numero_empregados_csr | 2022',\n",
        " 'numero_empregados_csr | 2021',\n",
        " 'numero_empregados_csr | 2020',\n",
        " 'numero_empregados_csr | 2019',\n",
        " 'numero_empregados_csr | 2018',\n",
        " 'numero_empregados_csr | 2017',\n",
        " 'numero_empregados_csr | 2016',\n",
        " 'numero_empregados_csr | 2015',\n",
        " 'numero_empregados_csr | 2014',\n",
        " 'numero_empregados_csr | 2013',\n",
        " 'numero_empregados_csr | 2012',\n",
        " 'numero_empregados_csr | 2011',\n",
        " 'numero_empregados_csr | 2010',\n",
        " 'numero_empregados_fulltime | 2022',\n",
        " 'numero_empregados_fulltime | 2021',\n",
        " 'numero_empregados_fulltime | 2020',\n",
        " 'numero_empregados_fulltime | 2019',\n",
        " 'numero_empregados_fulltime | 2018',\n",
        " 'numero_empregados_fulltime | 2017',\n",
        " 'numero_empregados_fulltime | 2016',\n",
        " 'numero_empregados_fulltime | 2015',\n",
        " 'numero_empregados_fulltime | 2014',\n",
        " 'numero_empregados_fulltime | 2013',\n",
        " 'numero_empregados_fulltime | 2012',\n",
        " 'numero_empregados_fulltime | 2011',\n",
        " 'numero_empregados_fulltime | 2010']"
      ],
      "metadata": {
        "id": "-KHyjPp9VIJZ"
      },
      "execution_count": null,
      "outputs": []
    },
    {
      "cell_type": "code",
      "source": [
        "# performing melting process\n",
        "df_melted = pd.melt(df_columnar, id_vars=id_vars, value_vars=value_vars)"
      ],
      "metadata": {
        "id": "KsQeblWgUqau"
      },
      "execution_count": null,
      "outputs": []
    },
    {
      "cell_type": "code",
      "source": [
        "# getting .info()\n",
        "df_melted.info()"
      ],
      "metadata": {
        "colab": {
          "base_uri": "https://localhost:8080/"
        },
        "id": "kZXXw8OwVS-Z",
        "outputId": "ec4d2581-dc64-4509-b71f-6988b7b8eb5d"
      },
      "execution_count": null,
      "outputs": [
        {
          "output_type": "stream",
          "name": "stdout",
          "text": [
            "<class 'pandas.core.frame.DataFrame'>\n",
            "RangeIndex: 77064 entries, 0 to 77063\n",
            "Data columns (total 12 columns):\n",
            " #   Column                      Non-Null Count  Dtype  \n",
            "---  ------                      --------------  -----  \n",
            " 0   Identifier (RIC)            77064 non-null  object \n",
            " 1   Company Name                77064 non-null  object \n",
            " 2   Country of Exchange         77064 non-null  object \n",
            " 3   TRBC Economic Sector Name   77064 non-null  object \n",
            " 4   Organization Website        70135 non-null  object \n",
            " 5   Organization Founded Year   77064 non-null  int64  \n",
            " 6   Organization Founded Month  76388 non-null  float64\n",
            " 7   Organization Founded Day    76388 non-null  float64\n",
            " 8   Organization Status Code    77064 non-null  object \n",
            " 9   Beta 5 Year                 49686 non-null  float64\n",
            " 10  variable                    77064 non-null  object \n",
            " 11  value                       36080 non-null  float64\n",
            "dtypes: float64(4), int64(1), object(7)\n",
            "memory usage: 7.1+ MB\n"
          ]
        }
      ]
    },
    {
      "cell_type": "code",
      "source": [
        "# performing .head() do identify how to separate variable name from FY definition\n",
        "df_melted.head()"
      ],
      "metadata": {
        "colab": {
          "base_uri": "https://localhost:8080/",
          "height": 206
        },
        "id": "_Vj9US8wVzpV",
        "outputId": "4361e474-e069-460b-e599-eee65c7b448a"
      },
      "execution_count": null,
      "outputs": [
        {
          "output_type": "execute_result",
          "data": {
            "text/plain": [
              "  Identifier (RIC)                                       Company Name  \\\n",
              "0        BDIF11.SA  Btg Pactual Divida Infra Fundo de Investimento...   \n",
              "1         LAND3.SA              Terra Santa Propriedades Agricolas SA   \n",
              "2         MEGA3.SA                                   Omega Energia SA   \n",
              "3        AATH11.SA  Athon Energia ESG I Fundo de Investimento em P...   \n",
              "4         AESB3.SA                              AES Brasil Energia SA   \n",
              "\n",
              "  Country of Exchange TRBC Economic Sector Name  \\\n",
              "0              Brazil                Financials   \n",
              "1              Brazil               Real Estate   \n",
              "2              Brazil                 Utilities   \n",
              "3              Brazil                Financials   \n",
              "4              Brazil                 Utilities   \n",
              "\n",
              "               Organization Website  Organization Founded Year  \\\n",
              "0                               NaN                       2021   \n",
              "1  https://www.terrasantapa.com.br/                       2021   \n",
              "2      https://omegaenergia.com.br/                       2021   \n",
              "3                               NaN                       2021   \n",
              "4         https://aesbrasil.com.br/                       2020   \n",
              "\n",
              "   Organization Founded Month  Organization Founded Day  \\\n",
              "0                         2.0                       8.0   \n",
              "1                         1.0                      11.0   \n",
              "2                         5.0                      27.0   \n",
              "3                         1.0                      29.0   \n",
              "4                         3.0                      20.0   \n",
              "\n",
              "  Organization Status Code  Beta 5 Year              variable         value  \n",
              "0                      Act          NaN  ativos_totais | 2022           NaN  \n",
              "1                      Act          NaN  ativos_totais | 2022  1.814330e+08  \n",
              "2                      Act          NaN  ativos_totais | 2022  2.179810e+09  \n",
              "3                      Act          NaN  ativos_totais | 2022           NaN  \n",
              "4                      Act      0.64517  ativos_totais | 2022  3.581621e+09  "
            ],
            "text/html": [
              "\n",
              "  <div id=\"df-3d5c135a-24dc-4f8d-ad8a-548a62dcb4e3\">\n",
              "    <div class=\"colab-df-container\">\n",
              "      <div>\n",
              "<style scoped>\n",
              "    .dataframe tbody tr th:only-of-type {\n",
              "        vertical-align: middle;\n",
              "    }\n",
              "\n",
              "    .dataframe tbody tr th {\n",
              "        vertical-align: top;\n",
              "    }\n",
              "\n",
              "    .dataframe thead th {\n",
              "        text-align: right;\n",
              "    }\n",
              "</style>\n",
              "<table border=\"1\" class=\"dataframe\">\n",
              "  <thead>\n",
              "    <tr style=\"text-align: right;\">\n",
              "      <th></th>\n",
              "      <th>Identifier (RIC)</th>\n",
              "      <th>Company Name</th>\n",
              "      <th>Country of Exchange</th>\n",
              "      <th>TRBC Economic Sector Name</th>\n",
              "      <th>Organization Website</th>\n",
              "      <th>Organization Founded Year</th>\n",
              "      <th>Organization Founded Month</th>\n",
              "      <th>Organization Founded Day</th>\n",
              "      <th>Organization Status Code</th>\n",
              "      <th>Beta 5 Year</th>\n",
              "      <th>variable</th>\n",
              "      <th>value</th>\n",
              "    </tr>\n",
              "  </thead>\n",
              "  <tbody>\n",
              "    <tr>\n",
              "      <th>0</th>\n",
              "      <td>BDIF11.SA</td>\n",
              "      <td>Btg Pactual Divida Infra Fundo de Investimento...</td>\n",
              "      <td>Brazil</td>\n",
              "      <td>Financials</td>\n",
              "      <td>NaN</td>\n",
              "      <td>2021</td>\n",
              "      <td>2.0</td>\n",
              "      <td>8.0</td>\n",
              "      <td>Act</td>\n",
              "      <td>NaN</td>\n",
              "      <td>ativos_totais | 2022</td>\n",
              "      <td>NaN</td>\n",
              "    </tr>\n",
              "    <tr>\n",
              "      <th>1</th>\n",
              "      <td>LAND3.SA</td>\n",
              "      <td>Terra Santa Propriedades Agricolas SA</td>\n",
              "      <td>Brazil</td>\n",
              "      <td>Real Estate</td>\n",
              "      <td>https://www.terrasantapa.com.br/</td>\n",
              "      <td>2021</td>\n",
              "      <td>1.0</td>\n",
              "      <td>11.0</td>\n",
              "      <td>Act</td>\n",
              "      <td>NaN</td>\n",
              "      <td>ativos_totais | 2022</td>\n",
              "      <td>1.814330e+08</td>\n",
              "    </tr>\n",
              "    <tr>\n",
              "      <th>2</th>\n",
              "      <td>MEGA3.SA</td>\n",
              "      <td>Omega Energia SA</td>\n",
              "      <td>Brazil</td>\n",
              "      <td>Utilities</td>\n",
              "      <td>https://omegaenergia.com.br/</td>\n",
              "      <td>2021</td>\n",
              "      <td>5.0</td>\n",
              "      <td>27.0</td>\n",
              "      <td>Act</td>\n",
              "      <td>NaN</td>\n",
              "      <td>ativos_totais | 2022</td>\n",
              "      <td>2.179810e+09</td>\n",
              "    </tr>\n",
              "    <tr>\n",
              "      <th>3</th>\n",
              "      <td>AATH11.SA</td>\n",
              "      <td>Athon Energia ESG I Fundo de Investimento em P...</td>\n",
              "      <td>Brazil</td>\n",
              "      <td>Financials</td>\n",
              "      <td>NaN</td>\n",
              "      <td>2021</td>\n",
              "      <td>1.0</td>\n",
              "      <td>29.0</td>\n",
              "      <td>Act</td>\n",
              "      <td>NaN</td>\n",
              "      <td>ativos_totais | 2022</td>\n",
              "      <td>NaN</td>\n",
              "    </tr>\n",
              "    <tr>\n",
              "      <th>4</th>\n",
              "      <td>AESB3.SA</td>\n",
              "      <td>AES Brasil Energia SA</td>\n",
              "      <td>Brazil</td>\n",
              "      <td>Utilities</td>\n",
              "      <td>https://aesbrasil.com.br/</td>\n",
              "      <td>2020</td>\n",
              "      <td>3.0</td>\n",
              "      <td>20.0</td>\n",
              "      <td>Act</td>\n",
              "      <td>0.64517</td>\n",
              "      <td>ativos_totais | 2022</td>\n",
              "      <td>3.581621e+09</td>\n",
              "    </tr>\n",
              "  </tbody>\n",
              "</table>\n",
              "</div>\n",
              "      <button class=\"colab-df-convert\" onclick=\"convertToInteractive('df-3d5c135a-24dc-4f8d-ad8a-548a62dcb4e3')\"\n",
              "              title=\"Convert this dataframe to an interactive table.\"\n",
              "              style=\"display:none;\">\n",
              "        \n",
              "  <svg xmlns=\"http://www.w3.org/2000/svg\" height=\"24px\"viewBox=\"0 0 24 24\"\n",
              "       width=\"24px\">\n",
              "    <path d=\"M0 0h24v24H0V0z\" fill=\"none\"/>\n",
              "    <path d=\"M18.56 5.44l.94 2.06.94-2.06 2.06-.94-2.06-.94-.94-2.06-.94 2.06-2.06.94zm-11 1L8.5 8.5l.94-2.06 2.06-.94-2.06-.94L8.5 2.5l-.94 2.06-2.06.94zm10 10l.94 2.06.94-2.06 2.06-.94-2.06-.94-.94-2.06-.94 2.06-2.06.94z\"/><path d=\"M17.41 7.96l-1.37-1.37c-.4-.4-.92-.59-1.43-.59-.52 0-1.04.2-1.43.59L10.3 9.45l-7.72 7.72c-.78.78-.78 2.05 0 2.83L4 21.41c.39.39.9.59 1.41.59.51 0 1.02-.2 1.41-.59l7.78-7.78 2.81-2.81c.8-.78.8-2.07 0-2.86zM5.41 20L4 18.59l7.72-7.72 1.47 1.35L5.41 20z\"/>\n",
              "  </svg>\n",
              "      </button>\n",
              "      \n",
              "  <style>\n",
              "    .colab-df-container {\n",
              "      display:flex;\n",
              "      flex-wrap:wrap;\n",
              "      gap: 12px;\n",
              "    }\n",
              "\n",
              "    .colab-df-convert {\n",
              "      background-color: #E8F0FE;\n",
              "      border: none;\n",
              "      border-radius: 50%;\n",
              "      cursor: pointer;\n",
              "      display: none;\n",
              "      fill: #1967D2;\n",
              "      height: 32px;\n",
              "      padding: 0 0 0 0;\n",
              "      width: 32px;\n",
              "    }\n",
              "\n",
              "    .colab-df-convert:hover {\n",
              "      background-color: #E2EBFA;\n",
              "      box-shadow: 0px 1px 2px rgba(60, 64, 67, 0.3), 0px 1px 3px 1px rgba(60, 64, 67, 0.15);\n",
              "      fill: #174EA6;\n",
              "    }\n",
              "\n",
              "    [theme=dark] .colab-df-convert {\n",
              "      background-color: #3B4455;\n",
              "      fill: #D2E3FC;\n",
              "    }\n",
              "\n",
              "    [theme=dark] .colab-df-convert:hover {\n",
              "      background-color: #434B5C;\n",
              "      box-shadow: 0px 1px 3px 1px rgba(0, 0, 0, 0.15);\n",
              "      filter: drop-shadow(0px 1px 2px rgba(0, 0, 0, 0.3));\n",
              "      fill: #FFFFFF;\n",
              "    }\n",
              "  </style>\n",
              "\n",
              "      <script>\n",
              "        const buttonEl =\n",
              "          document.querySelector('#df-3d5c135a-24dc-4f8d-ad8a-548a62dcb4e3 button.colab-df-convert');\n",
              "        buttonEl.style.display =\n",
              "          google.colab.kernel.accessAllowed ? 'block' : 'none';\n",
              "\n",
              "        async function convertToInteractive(key) {\n",
              "          const element = document.querySelector('#df-3d5c135a-24dc-4f8d-ad8a-548a62dcb4e3');\n",
              "          const dataTable =\n",
              "            await google.colab.kernel.invokeFunction('convertToInteractive',\n",
              "                                                     [key], {});\n",
              "          if (!dataTable) return;\n",
              "\n",
              "          const docLinkHtml = 'Like what you see? Visit the ' +\n",
              "            '<a target=\"_blank\" href=https://colab.research.google.com/notebooks/data_table.ipynb>data table notebook</a>'\n",
              "            + ' to learn more about interactive tables.';\n",
              "          element.innerHTML = '';\n",
              "          dataTable['output_type'] = 'display_data';\n",
              "          await google.colab.output.renderOutput(dataTable, element);\n",
              "          const docLink = document.createElement('div');\n",
              "          docLink.innerHTML = docLinkHtml;\n",
              "          element.appendChild(docLink);\n",
              "        }\n",
              "      </script>\n",
              "    </div>\n",
              "  </div>\n",
              "  "
            ]
          },
          "metadata": {},
          "execution_count": 42
        }
      ]
    },
    {
      "cell_type": "code",
      "source": [
        "# separating variable name from year\n",
        "df_melted[['variable_name','year']] = df_melted['variable'].str.split('|', expand=True)"
      ],
      "metadata": {
        "id": "PdYL6tRIWM_G"
      },
      "execution_count": null,
      "outputs": []
    },
    {
      "cell_type": "code",
      "source": [
        "# performing .info() for checks\n",
        "df_melted.info(verbose=True, show_counts=True)"
      ],
      "metadata": {
        "colab": {
          "base_uri": "https://localhost:8080/"
        },
        "id": "x1UJHOVLWdgt",
        "outputId": "557be9fa-0e01-4553-fefb-aa49528706cd"
      },
      "execution_count": null,
      "outputs": [
        {
          "output_type": "stream",
          "name": "stdout",
          "text": [
            "<class 'pandas.core.frame.DataFrame'>\n",
            "RangeIndex: 77064 entries, 0 to 77063\n",
            "Data columns (total 14 columns):\n",
            " #   Column                      Non-Null Count  Dtype  \n",
            "---  ------                      --------------  -----  \n",
            " 0   Identifier (RIC)            77064 non-null  object \n",
            " 1   Company Name                77064 non-null  object \n",
            " 2   Country of Exchange         77064 non-null  object \n",
            " 3   TRBC Economic Sector Name   77064 non-null  object \n",
            " 4   Organization Website        70135 non-null  object \n",
            " 5   Organization Founded Year   77064 non-null  int64  \n",
            " 6   Organization Founded Month  76388 non-null  float64\n",
            " 7   Organization Founded Day    76388 non-null  float64\n",
            " 8   Organization Status Code    77064 non-null  object \n",
            " 9   Beta 5 Year                 49686 non-null  float64\n",
            " 10  variable                    77064 non-null  object \n",
            " 11  value                       36080 non-null  float64\n",
            " 12  variable_name               77064 non-null  object \n",
            " 13  year                        77064 non-null  object \n",
            "dtypes: float64(4), int64(1), object(9)\n",
            "memory usage: 8.2+ MB\n"
          ]
        }
      ]
    },
    {
      "cell_type": "code",
      "source": [
        "# defining more redable names for columns\n",
        "new_names_columns = [\n",
        "                     #'original_csv_filename',\n",
        "                     'identifier_ric','company_name','country_of_exchange','trbc_economic_sector_name',\n",
        "                     'organization_website','organization_founded_year','organization_founded_month','organization_founded_day',\n",
        "                     'organization_status_code','beta_5_year','variable','value','variable_name','year']"
      ],
      "metadata": {
        "id": "pBKinsKVXOE1"
      },
      "execution_count": null,
      "outputs": []
    },
    {
      "cell_type": "code",
      "source": [
        "# seting new names\n",
        "df_melted.columns = new_names_columns"
      ],
      "metadata": {
        "id": "U7k8y2YLWxSx"
      },
      "execution_count": null,
      "outputs": []
    },
    {
      "cell_type": "code",
      "source": [
        "# names are OK now\n",
        "df_melted.head()"
      ],
      "metadata": {
        "colab": {
          "base_uri": "https://localhost:8080/",
          "height": 206
        },
        "id": "emxGSk_5X79Y",
        "outputId": "ddd0af37-77a4-435c-dcaf-f9a78e3baa40"
      },
      "execution_count": null,
      "outputs": [
        {
          "output_type": "execute_result",
          "data": {
            "text/plain": [
              "  identifier_ric                                       company_name  \\\n",
              "0      BDIF11.SA  Btg Pactual Divida Infra Fundo de Investimento...   \n",
              "1       LAND3.SA              Terra Santa Propriedades Agricolas SA   \n",
              "2       MEGA3.SA                                   Omega Energia SA   \n",
              "3      AATH11.SA  Athon Energia ESG I Fundo de Investimento em P...   \n",
              "4       AESB3.SA                              AES Brasil Energia SA   \n",
              "\n",
              "  country_of_exchange trbc_economic_sector_name  \\\n",
              "0              Brazil                Financials   \n",
              "1              Brazil               Real Estate   \n",
              "2              Brazil                 Utilities   \n",
              "3              Brazil                Financials   \n",
              "4              Brazil                 Utilities   \n",
              "\n",
              "               organization_website  organization_founded_year  \\\n",
              "0                               NaN                       2021   \n",
              "1  https://www.terrasantapa.com.br/                       2021   \n",
              "2      https://omegaenergia.com.br/                       2021   \n",
              "3                               NaN                       2021   \n",
              "4         https://aesbrasil.com.br/                       2020   \n",
              "\n",
              "   organization_founded_month  organization_founded_day  \\\n",
              "0                         2.0                       8.0   \n",
              "1                         1.0                      11.0   \n",
              "2                         5.0                      27.0   \n",
              "3                         1.0                      29.0   \n",
              "4                         3.0                      20.0   \n",
              "\n",
              "  organization_status_code  beta_5_year              variable         value  \\\n",
              "0                      Act          NaN  ativos_totais | 2022           NaN   \n",
              "1                      Act          NaN  ativos_totais | 2022  1.814330e+08   \n",
              "2                      Act          NaN  ativos_totais | 2022  2.179810e+09   \n",
              "3                      Act          NaN  ativos_totais | 2022           NaN   \n",
              "4                      Act      0.64517  ativos_totais | 2022  3.581621e+09   \n",
              "\n",
              "    variable_name   year  \n",
              "0  ativos_totais    2022  \n",
              "1  ativos_totais    2022  \n",
              "2  ativos_totais    2022  \n",
              "3  ativos_totais    2022  \n",
              "4  ativos_totais    2022  "
            ],
            "text/html": [
              "\n",
              "  <div id=\"df-3d987569-e214-454d-aaa8-ca4ef1e402df\">\n",
              "    <div class=\"colab-df-container\">\n",
              "      <div>\n",
              "<style scoped>\n",
              "    .dataframe tbody tr th:only-of-type {\n",
              "        vertical-align: middle;\n",
              "    }\n",
              "\n",
              "    .dataframe tbody tr th {\n",
              "        vertical-align: top;\n",
              "    }\n",
              "\n",
              "    .dataframe thead th {\n",
              "        text-align: right;\n",
              "    }\n",
              "</style>\n",
              "<table border=\"1\" class=\"dataframe\">\n",
              "  <thead>\n",
              "    <tr style=\"text-align: right;\">\n",
              "      <th></th>\n",
              "      <th>identifier_ric</th>\n",
              "      <th>company_name</th>\n",
              "      <th>country_of_exchange</th>\n",
              "      <th>trbc_economic_sector_name</th>\n",
              "      <th>organization_website</th>\n",
              "      <th>organization_founded_year</th>\n",
              "      <th>organization_founded_month</th>\n",
              "      <th>organization_founded_day</th>\n",
              "      <th>organization_status_code</th>\n",
              "      <th>beta_5_year</th>\n",
              "      <th>variable</th>\n",
              "      <th>value</th>\n",
              "      <th>variable_name</th>\n",
              "      <th>year</th>\n",
              "    </tr>\n",
              "  </thead>\n",
              "  <tbody>\n",
              "    <tr>\n",
              "      <th>0</th>\n",
              "      <td>BDIF11.SA</td>\n",
              "      <td>Btg Pactual Divida Infra Fundo de Investimento...</td>\n",
              "      <td>Brazil</td>\n",
              "      <td>Financials</td>\n",
              "      <td>NaN</td>\n",
              "      <td>2021</td>\n",
              "      <td>2.0</td>\n",
              "      <td>8.0</td>\n",
              "      <td>Act</td>\n",
              "      <td>NaN</td>\n",
              "      <td>ativos_totais | 2022</td>\n",
              "      <td>NaN</td>\n",
              "      <td>ativos_totais</td>\n",
              "      <td>2022</td>\n",
              "    </tr>\n",
              "    <tr>\n",
              "      <th>1</th>\n",
              "      <td>LAND3.SA</td>\n",
              "      <td>Terra Santa Propriedades Agricolas SA</td>\n",
              "      <td>Brazil</td>\n",
              "      <td>Real Estate</td>\n",
              "      <td>https://www.terrasantapa.com.br/</td>\n",
              "      <td>2021</td>\n",
              "      <td>1.0</td>\n",
              "      <td>11.0</td>\n",
              "      <td>Act</td>\n",
              "      <td>NaN</td>\n",
              "      <td>ativos_totais | 2022</td>\n",
              "      <td>1.814330e+08</td>\n",
              "      <td>ativos_totais</td>\n",
              "      <td>2022</td>\n",
              "    </tr>\n",
              "    <tr>\n",
              "      <th>2</th>\n",
              "      <td>MEGA3.SA</td>\n",
              "      <td>Omega Energia SA</td>\n",
              "      <td>Brazil</td>\n",
              "      <td>Utilities</td>\n",
              "      <td>https://omegaenergia.com.br/</td>\n",
              "      <td>2021</td>\n",
              "      <td>5.0</td>\n",
              "      <td>27.0</td>\n",
              "      <td>Act</td>\n",
              "      <td>NaN</td>\n",
              "      <td>ativos_totais | 2022</td>\n",
              "      <td>2.179810e+09</td>\n",
              "      <td>ativos_totais</td>\n",
              "      <td>2022</td>\n",
              "    </tr>\n",
              "    <tr>\n",
              "      <th>3</th>\n",
              "      <td>AATH11.SA</td>\n",
              "      <td>Athon Energia ESG I Fundo de Investimento em P...</td>\n",
              "      <td>Brazil</td>\n",
              "      <td>Financials</td>\n",
              "      <td>NaN</td>\n",
              "      <td>2021</td>\n",
              "      <td>1.0</td>\n",
              "      <td>29.0</td>\n",
              "      <td>Act</td>\n",
              "      <td>NaN</td>\n",
              "      <td>ativos_totais | 2022</td>\n",
              "      <td>NaN</td>\n",
              "      <td>ativos_totais</td>\n",
              "      <td>2022</td>\n",
              "    </tr>\n",
              "    <tr>\n",
              "      <th>4</th>\n",
              "      <td>AESB3.SA</td>\n",
              "      <td>AES Brasil Energia SA</td>\n",
              "      <td>Brazil</td>\n",
              "      <td>Utilities</td>\n",
              "      <td>https://aesbrasil.com.br/</td>\n",
              "      <td>2020</td>\n",
              "      <td>3.0</td>\n",
              "      <td>20.0</td>\n",
              "      <td>Act</td>\n",
              "      <td>0.64517</td>\n",
              "      <td>ativos_totais | 2022</td>\n",
              "      <td>3.581621e+09</td>\n",
              "      <td>ativos_totais</td>\n",
              "      <td>2022</td>\n",
              "    </tr>\n",
              "  </tbody>\n",
              "</table>\n",
              "</div>\n",
              "      <button class=\"colab-df-convert\" onclick=\"convertToInteractive('df-3d987569-e214-454d-aaa8-ca4ef1e402df')\"\n",
              "              title=\"Convert this dataframe to an interactive table.\"\n",
              "              style=\"display:none;\">\n",
              "        \n",
              "  <svg xmlns=\"http://www.w3.org/2000/svg\" height=\"24px\"viewBox=\"0 0 24 24\"\n",
              "       width=\"24px\">\n",
              "    <path d=\"M0 0h24v24H0V0z\" fill=\"none\"/>\n",
              "    <path d=\"M18.56 5.44l.94 2.06.94-2.06 2.06-.94-2.06-.94-.94-2.06-.94 2.06-2.06.94zm-11 1L8.5 8.5l.94-2.06 2.06-.94-2.06-.94L8.5 2.5l-.94 2.06-2.06.94zm10 10l.94 2.06.94-2.06 2.06-.94-2.06-.94-.94-2.06-.94 2.06-2.06.94z\"/><path d=\"M17.41 7.96l-1.37-1.37c-.4-.4-.92-.59-1.43-.59-.52 0-1.04.2-1.43.59L10.3 9.45l-7.72 7.72c-.78.78-.78 2.05 0 2.83L4 21.41c.39.39.9.59 1.41.59.51 0 1.02-.2 1.41-.59l7.78-7.78 2.81-2.81c.8-.78.8-2.07 0-2.86zM5.41 20L4 18.59l7.72-7.72 1.47 1.35L5.41 20z\"/>\n",
              "  </svg>\n",
              "      </button>\n",
              "      \n",
              "  <style>\n",
              "    .colab-df-container {\n",
              "      display:flex;\n",
              "      flex-wrap:wrap;\n",
              "      gap: 12px;\n",
              "    }\n",
              "\n",
              "    .colab-df-convert {\n",
              "      background-color: #E8F0FE;\n",
              "      border: none;\n",
              "      border-radius: 50%;\n",
              "      cursor: pointer;\n",
              "      display: none;\n",
              "      fill: #1967D2;\n",
              "      height: 32px;\n",
              "      padding: 0 0 0 0;\n",
              "      width: 32px;\n",
              "    }\n",
              "\n",
              "    .colab-df-convert:hover {\n",
              "      background-color: #E2EBFA;\n",
              "      box-shadow: 0px 1px 2px rgba(60, 64, 67, 0.3), 0px 1px 3px 1px rgba(60, 64, 67, 0.15);\n",
              "      fill: #174EA6;\n",
              "    }\n",
              "\n",
              "    [theme=dark] .colab-df-convert {\n",
              "      background-color: #3B4455;\n",
              "      fill: #D2E3FC;\n",
              "    }\n",
              "\n",
              "    [theme=dark] .colab-df-convert:hover {\n",
              "      background-color: #434B5C;\n",
              "      box-shadow: 0px 1px 3px 1px rgba(0, 0, 0, 0.15);\n",
              "      filter: drop-shadow(0px 1px 2px rgba(0, 0, 0, 0.3));\n",
              "      fill: #FFFFFF;\n",
              "    }\n",
              "  </style>\n",
              "\n",
              "      <script>\n",
              "        const buttonEl =\n",
              "          document.querySelector('#df-3d987569-e214-454d-aaa8-ca4ef1e402df button.colab-df-convert');\n",
              "        buttonEl.style.display =\n",
              "          google.colab.kernel.accessAllowed ? 'block' : 'none';\n",
              "\n",
              "        async function convertToInteractive(key) {\n",
              "          const element = document.querySelector('#df-3d987569-e214-454d-aaa8-ca4ef1e402df');\n",
              "          const dataTable =\n",
              "            await google.colab.kernel.invokeFunction('convertToInteractive',\n",
              "                                                     [key], {});\n",
              "          if (!dataTable) return;\n",
              "\n",
              "          const docLinkHtml = 'Like what you see? Visit the ' +\n",
              "            '<a target=\"_blank\" href=https://colab.research.google.com/notebooks/data_table.ipynb>data table notebook</a>'\n",
              "            + ' to learn more about interactive tables.';\n",
              "          element.innerHTML = '';\n",
              "          dataTable['output_type'] = 'display_data';\n",
              "          await google.colab.output.renderOutput(dataTable, element);\n",
              "          const docLink = document.createElement('div');\n",
              "          docLink.innerHTML = docLinkHtml;\n",
              "          element.appendChild(docLink);\n",
              "        }\n",
              "      </script>\n",
              "    </div>\n",
              "  </div>\n",
              "  "
            ]
          },
          "metadata": {},
          "execution_count": 47
        }
      ]
    },
    {
      "cell_type": "code",
      "source": [
        "# let's create an additional column called variable_name_en which will contain the name in english\n",
        "df_melted['variable_name'].unique()"
      ],
      "metadata": {
        "colab": {
          "base_uri": "https://localhost:8080/"
        },
        "id": "m5GXZOHRZI8k",
        "outputId": "c48fd8a9-378d-467a-a3b5-24170fad382b"
      },
      "execution_count": null,
      "outputs": [
        {
          "output_type": "execute_result",
          "data": {
            "text/plain": [
              "array(['ativos_totais ', 'debitos_totais ', 'turnover ', 'mcap ',\n",
              "       'receita ', 'beta ', 'roa ', 'roe ', 'p_d ', 'pl_equity ',\n",
              "       'lucro_liquido_antes_dos_impostos ', 'numero_empregados_csr ',\n",
              "       'numero_empregados_fulltime '], dtype=object)"
            ]
          },
          "metadata": {},
          "execution_count": 48
        }
      ]
    },
    {
      "cell_type": "code",
      "source": [
        "# creating the column with portuguese names\n",
        "df_melted['variable_name_en'] = df_melted['variable_name']\n",
        "\n",
        "#changin portuguese names to english using a dict inside replace function, won't replace {turnover, mcap, beta, roa, roe, pl_equity}\n",
        "df_melted['variable_name_en'] = df_melted['variable_name_en'].replace({'ativos_totais ':'total_assets',\n",
        "                                                                       'debitos_totais ':'total_debts',\n",
        "                                                                       'receita ':'revenue',\n",
        "                                                                       'p_d ':'r_d',\n",
        "                                                                       'lucro_liquido_antes_dos_impostos ':'net_income_before_taxes',\n",
        "                                                                       'numero_empregados_csr ':'employees_as_csr_reported',\n",
        "                                                                       'numero_empregados_fulltime ':'employees_fulltime'\n",
        "                                                                      })"
      ],
      "metadata": {
        "id": "hy5SFKy3Z_9N"
      },
      "execution_count": null,
      "outputs": []
    },
    {
      "cell_type": "code",
      "source": [
        "# ok it works, but now let's trim both columns\n",
        "df_melted['variable_name_en'].unique()"
      ],
      "metadata": {
        "colab": {
          "base_uri": "https://localhost:8080/"
        },
        "id": "Evkii_EIbXxr",
        "outputId": "b70135e7-ce4a-4c28-bd9d-dddc9079e40b"
      },
      "execution_count": null,
      "outputs": [
        {
          "output_type": "execute_result",
          "data": {
            "text/plain": [
              "array(['total_assets', 'total_debts', 'turnover ', 'mcap ', 'revenue',\n",
              "       'beta ', 'roa ', 'roe ', 'r_d', 'pl_equity ',\n",
              "       'net_income_before_taxes', 'employees_as_csr_reported',\n",
              "       'employees_fulltime'], dtype=object)"
            ]
          },
          "metadata": {},
          "execution_count": 50
        }
      ]
    },
    {
      "cell_type": "code",
      "source": [
        "# listing all object columns in df_melted\n",
        "df_obj = df_melted.select_dtypes(['object'])\n",
        "# trimming columns\n",
        "df_melted[df_obj.columns] = df_obj.apply(lambda x: x.str.strip())"
      ],
      "metadata": {
        "id": "BbTDzmsXbncZ"
      },
      "execution_count": null,
      "outputs": []
    },
    {
      "cell_type": "code",
      "source": [
        "df_pivoted = df_melted.pivot_table(values=['value'], index=[ 'identifier_ric', 'company_name',\n",
        "                                                        'country_of_exchange', 'trbc_economic_sector_name',\n",
        "                                                        'organization_website', 'organization_founded_year',\n",
        "                                                        'organization_founded_month', 'organization_founded_day',\n",
        "                                                        'organization_status_code', 'beta_5_year','year'],\n",
        "                    columns=['variable_name_en']).reset_index()"
      ],
      "metadata": {
        "id": "DxwDz6hQfkai"
      },
      "execution_count": null,
      "outputs": []
    },
    {
      "cell_type": "code",
      "source": [
        "# flattening multiindex generated by pivot_table\n",
        "df_pivoted.columns = df_pivoted.columns.to_flat_index()"
      ],
      "metadata": {
        "id": "V3ubJIoujFzA"
      },
      "execution_count": null,
      "outputs": []
    },
    {
      "cell_type": "code",
      "source": [
        "# but the columns names are a bit strange, so I will normalize them\n",
        "df_pivoted.columns"
      ],
      "metadata": {
        "colab": {
          "base_uri": "https://localhost:8080/"
        },
        "id": "eYnzCTFijYTm",
        "outputId": "2cacad40-2926-45f9-8831-e32a7f1e7d4d"
      },
      "execution_count": null,
      "outputs": [
        {
          "output_type": "execute_result",
          "data": {
            "text/plain": [
              "Index([                ('identifier_ric', ''),\n",
              "                         ('company_name', ''),\n",
              "                  ('country_of_exchange', ''),\n",
              "            ('trbc_economic_sector_name', ''),\n",
              "                 ('organization_website', ''),\n",
              "            ('organization_founded_year', ''),\n",
              "           ('organization_founded_month', ''),\n",
              "             ('organization_founded_day', ''),\n",
              "             ('organization_status_code', ''),\n",
              "                          ('beta_5_year', ''),\n",
              "                                 ('year', ''),\n",
              "                            ('value', 'beta'),\n",
              "       ('value', 'employees_as_csr_reported'),\n",
              "              ('value', 'employees_fulltime'),\n",
              "                            ('value', 'mcap'),\n",
              "         ('value', 'net_income_before_taxes'),\n",
              "                       ('value', 'pl_equity'),\n",
              "                             ('value', 'r_d'),\n",
              "                         ('value', 'revenue'),\n",
              "                             ('value', 'roa'),\n",
              "                             ('value', 'roe'),\n",
              "                    ('value', 'total_assets'),\n",
              "                     ('value', 'total_debts'),\n",
              "                        ('value', 'turnover')],\n",
              "      dtype='object')"
            ]
          },
          "metadata": {},
          "execution_count": 54
        }
      ]
    },
    {
      "cell_type": "code",
      "source": [
        "pivoted_columns_names = [ 'identifier_ric', 'company_name',\n",
        "                          'country_of_exchange', 'trbc_economic_sector_name',\n",
        "                          'organization_website', 'organization_founded_year',\n",
        "                          'organization_founded_month', 'organization_founded_day',\n",
        "                          'organization_status_code', 'beta_5_year','year',\n",
        "                          'beta','employees_as_csr_reported','employees_fulltime',\n",
        "                         'mcap','net_income_before_taxes','pl_equity',\n",
        "                         'r_d','revenue','roa','roe','total_assets','total_debts',\n",
        "                         'turnover']\n",
        "df_pivoted.columns = pivoted_columns_names"
      ],
      "metadata": {
        "id": "vL-VYDZKj06f"
      },
      "execution_count": null,
      "outputs": []
    },
    {
      "cell_type": "markdown",
      "source": [
        "# 2) {EN-US} Performing some transformation to guarantee that website is a good match with Google Play Store Data by developer e-mail <br>\n",
        "     {PT-BR} Transformando o site das empresas para que seja um bom match com os dados da Google Play Store"
      ],
      "metadata": {
        "id": "uQulMYJ-pW3W"
      }
    },
    {
      "cell_type": "code",
      "source": [
        "all_sites_final = list(df_pivoted['organization_website'].unique())"
      ],
      "metadata": {
        "id": "x_S9LJ7Rkkhj"
      },
      "execution_count": null,
      "outputs": []
    },
    {
      "cell_type": "code",
      "source": [
        "prefixes = []\n",
        "for website in all_sites_final:\n",
        "  prefixes.append(website.split('://')[0])"
      ],
      "metadata": {
        "id": "2NpO4PoonLWN"
      },
      "execution_count": null,
      "outputs": []
    },
    {
      "cell_type": "code",
      "source": [
        "set(prefixes)"
      ],
      "metadata": {
        "colab": {
          "base_uri": "https://localhost:8080/"
        },
        "id": "3f19Qv6foR95",
        "outputId": "bc05ceed-ded0-40d1-d3ba-2c1f240b85a9"
      },
      "execution_count": null,
      "outputs": [
        {
          "output_type": "execute_result",
          "data": {
            "text/plain": [
              "{'http', 'https'}"
            ]
          },
          "metadata": {},
          "execution_count": 58
        }
      ]
    },
    {
      "cell_type": "markdown",
      "source": [
        "Prefixes are always `'http://'` and `'https://'`<br><br>\n",
        "\n",
        "---\n",
        "\n",
        "\n",
        "The steps are:\n",
        "\n",
        "*   Let's split every site by '://'\n",
        "*   Then, let's keep only the last slice [-1]\n",
        "*   From the last slice [-1], let's remove 'www.'\n",
        "*   Then, let's split by '/' again and keep first slice\n",
        "*   Finally the result seems to be the domain of each company just like the following e-mail domain some.person@**abraudurso.ru**, derived from http://www.abraudurso.ru/ as the company website\n",
        "\n"
      ],
      "metadata": {
        "id": "3NxJvyDEp6Vk"
      }
    },
    {
      "cell_type": "code",
      "source": [
        "# testing the function\n",
        "'https://www.first-am.ru/individuals/fund/zpifn-kommercheskaya-nedvizhimost/'.split('://')[-1].replace('www.','').split('/')[0]"
      ],
      "metadata": {
        "colab": {
          "base_uri": "https://localhost:8080/",
          "height": 35
        },
        "id": "EX7ygaSGvw9d",
        "outputId": "2d79e8a1-4616-41cc-b2f4-d96ce535ec71"
      },
      "execution_count": null,
      "outputs": [
        {
          "output_type": "execute_result",
          "data": {
            "text/plain": [
              "'first-am.ru'"
            ],
            "application/vnd.google.colaboratory.intrinsic+json": {
              "type": "string"
            }
          },
          "metadata": {},
          "execution_count": 59
        }
      ]
    },
    {
      "cell_type": "code",
      "source": [
        "# building the function that gets the email domain from a website\n",
        "def get_email_domain(company_website):\n",
        "  return company_website.split('://')[-1].replace('www.','').split('/')[0].lower().strip().lower().strip()"
      ],
      "metadata": {
        "id": "ojJTxKFBr-0f"
      },
      "execution_count": null,
      "outputs": []
    },
    {
      "cell_type": "code",
      "source": [
        "# applying the function to every website from the organization_website column\n",
        "email_domain_list = []\n",
        "for row in list(df_pivoted['organization_website']):\n",
        "  email_domain_list.append(get_email_domain(row))"
      ],
      "metadata": {
        "id": "3HU-_vQxqZ9e"
      },
      "execution_count": null,
      "outputs": []
    },
    {
      "cell_type": "code",
      "source": [
        "df_pivoted.info()"
      ],
      "metadata": {
        "colab": {
          "base_uri": "https://localhost:8080/"
        },
        "id": "7K-DJOkoztyk",
        "outputId": "c28084ff-f7a6-466c-b9e0-f5f806546a59"
      },
      "execution_count": null,
      "outputs": [
        {
          "output_type": "stream",
          "name": "stdout",
          "text": [
            "<class 'pandas.core.frame.DataFrame'>\n",
            "RangeIndex: 3365 entries, 0 to 3364\n",
            "Data columns (total 24 columns):\n",
            " #   Column                      Non-Null Count  Dtype  \n",
            "---  ------                      --------------  -----  \n",
            " 0   identifier_ric              3365 non-null   object \n",
            " 1   company_name                3365 non-null   object \n",
            " 2   country_of_exchange         3365 non-null   object \n",
            " 3   trbc_economic_sector_name   3365 non-null   object \n",
            " 4   organization_website        3365 non-null   object \n",
            " 5   organization_founded_year   3365 non-null   int64  \n",
            " 6   organization_founded_month  3365 non-null   float64\n",
            " 7   organization_founded_day    3365 non-null   float64\n",
            " 8   organization_status_code    3365 non-null   object \n",
            " 9   beta_5_year                 3365 non-null   float64\n",
            " 10  year                        3365 non-null   object \n",
            " 11  beta                        1870 non-null   float64\n",
            " 12  employees_as_csr_reported   729 non-null    float64\n",
            " 13  employees_fulltime          1351 non-null   float64\n",
            " 14  mcap                        3217 non-null   float64\n",
            " 15  net_income_before_taxes     3079 non-null   float64\n",
            " 16  pl_equity                   3080 non-null   float64\n",
            " 17  r_d                         172 non-null    float64\n",
            " 18  revenue                     2886 non-null   float64\n",
            " 19  roa                         1258 non-null   float64\n",
            " 20  roe                         1573 non-null   float64\n",
            " 21  total_assets                3079 non-null   float64\n",
            " 22  total_debts                 3078 non-null   float64\n",
            " 23  turnover                    3242 non-null   float64\n",
            "dtypes: float64(16), int64(1), object(7)\n",
            "memory usage: 631.1+ KB\n"
          ]
        }
      ]
    },
    {
      "cell_type": "code",
      "source": [
        "# creating a new column from the email domain list after the organization website column\n",
        "df_pivoted.insert(loc=6, column='organization_email_domain', value=email_domain_list)"
      ],
      "metadata": {
        "id": "MZvzfqE7x-JX"
      },
      "execution_count": null,
      "outputs": []
    },
    {
      "cell_type": "code",
      "source": [
        "df_pivoted.info()"
      ],
      "metadata": {
        "colab": {
          "base_uri": "https://localhost:8080/"
        },
        "id": "bWLyHAY_znI9",
        "outputId": "afc929ec-c964-4634-f5fe-3bead757ae72"
      },
      "execution_count": null,
      "outputs": [
        {
          "output_type": "stream",
          "name": "stdout",
          "text": [
            "<class 'pandas.core.frame.DataFrame'>\n",
            "RangeIndex: 3365 entries, 0 to 3364\n",
            "Data columns (total 25 columns):\n",
            " #   Column                      Non-Null Count  Dtype  \n",
            "---  ------                      --------------  -----  \n",
            " 0   identifier_ric              3365 non-null   object \n",
            " 1   company_name                3365 non-null   object \n",
            " 2   country_of_exchange         3365 non-null   object \n",
            " 3   trbc_economic_sector_name   3365 non-null   object \n",
            " 4   organization_website        3365 non-null   object \n",
            " 5   organization_founded_year   3365 non-null   int64  \n",
            " 6   organization_email_domain   3365 non-null   object \n",
            " 7   organization_founded_month  3365 non-null   float64\n",
            " 8   organization_founded_day    3365 non-null   float64\n",
            " 9   organization_status_code    3365 non-null   object \n",
            " 10  beta_5_year                 3365 non-null   float64\n",
            " 11  year                        3365 non-null   object \n",
            " 12  beta                        1870 non-null   float64\n",
            " 13  employees_as_csr_reported   729 non-null    float64\n",
            " 14  employees_fulltime          1351 non-null   float64\n",
            " 15  mcap                        3217 non-null   float64\n",
            " 16  net_income_before_taxes     3079 non-null   float64\n",
            " 17  pl_equity                   3080 non-null   float64\n",
            " 18  r_d                         172 non-null    float64\n",
            " 19  revenue                     2886 non-null   float64\n",
            " 20  roa                         1258 non-null   float64\n",
            " 21  roe                         1573 non-null   float64\n",
            " 22  total_assets                3079 non-null   float64\n",
            " 23  total_debts                 3078 non-null   float64\n",
            " 24  turnover                    3242 non-null   float64\n",
            "dtypes: float64(16), int64(1), object(8)\n",
            "memory usage: 657.4+ KB\n"
          ]
        }
      ]
    },
    {
      "cell_type": "code",
      "source": [
        "df_pivoted.head()"
      ],
      "metadata": {
        "colab": {
          "base_uri": "https://localhost:8080/",
          "height": 560
        },
        "id": "NsKWayQq0cjO",
        "outputId": "0d6cbc12-62a8-40d5-aff5-bb750165ca1c"
      },
      "execution_count": null,
      "outputs": [
        {
          "output_type": "execute_result",
          "data": {
            "text/plain": [
              "  identifier_ric                      company_name country_of_exchange  \\\n",
              "0       AALR3.SA  Centro de Imagem Diagnosticos SA              Brazil   \n",
              "1       AALR3.SA  Centro de Imagem Diagnosticos SA              Brazil   \n",
              "2       AALR3.SA  Centro de Imagem Diagnosticos SA              Brazil   \n",
              "3       AALR3.SA  Centro de Imagem Diagnosticos SA              Brazil   \n",
              "4       AALR3.SA  Centro de Imagem Diagnosticos SA              Brazil   \n",
              "\n",
              "  trbc_economic_sector_name            organization_website  \\\n",
              "0                Healthcare  https://centrodaimagem.com.br/   \n",
              "1                Healthcare  https://centrodaimagem.com.br/   \n",
              "2                Healthcare  https://centrodaimagem.com.br/   \n",
              "3                Healthcare  https://centrodaimagem.com.br/   \n",
              "4                Healthcare  https://centrodaimagem.com.br/   \n",
              "\n",
              "   organization_founded_year organization_email_domain  \\\n",
              "0                       1992     centrodaimagem.com.br   \n",
              "1                       1992     centrodaimagem.com.br   \n",
              "2                       1992     centrodaimagem.com.br   \n",
              "3                       1992     centrodaimagem.com.br   \n",
              "4                       1992     centrodaimagem.com.br   \n",
              "\n",
              "   organization_founded_month  organization_founded_day  \\\n",
              "0                         8.0                       5.0   \n",
              "1                         8.0                       5.0   \n",
              "2                         8.0                       5.0   \n",
              "3                         8.0                       5.0   \n",
              "4                         8.0                       5.0   \n",
              "\n",
              "  organization_status_code  ...          mcap net_income_before_taxes  \\\n",
              "0                      Act  ...           NaN            1.097426e+07   \n",
              "1                      Act  ...           NaN           -2.111404e+06   \n",
              "2                      Act  ...  5.174188e+08            1.759907e+06   \n",
              "3                      Act  ...  5.285872e+08            1.064152e+07   \n",
              "4                      Act  ...  4.057513e+08           -2.392138e+06   \n",
              "\n",
              "      pl_equity  r_d       revenue  roa     roe  total_assets   total_debts  \\\n",
              "0  1.154547e+08  NaN  1.168168e+08  NaN     NaN  2.495719e+08  6.178508e+07   \n",
              "1  2.797588e+08  NaN  1.479673e+08  NaN     NaN  5.509323e+08  1.243387e+08   \n",
              "2  1.808595e+08  NaN  1.767141e+08  NaN     NaN  3.880363e+08  1.175571e+08   \n",
              "3  3.607525e+08  NaN  2.924720e+08  NaN  0.0157  6.659019e+08  1.554307e+08   \n",
              "4  3.681833e+08  NaN  3.254358e+08  NaN  0.0201  6.898901e+08  1.809281e+08   \n",
              "\n",
              "       turnover  \n",
              "0           NaN  \n",
              "1           NaN  \n",
              "2  1.652387e+06  \n",
              "3  4.056800e+06  \n",
              "4  7.841954e+05  \n",
              "\n",
              "[5 rows x 25 columns]"
            ],
            "text/html": [
              "\n",
              "  <div id=\"df-ebd3a32c-daf7-459d-97b4-2d185235c60c\">\n",
              "    <div class=\"colab-df-container\">\n",
              "      <div>\n",
              "<style scoped>\n",
              "    .dataframe tbody tr th:only-of-type {\n",
              "        vertical-align: middle;\n",
              "    }\n",
              "\n",
              "    .dataframe tbody tr th {\n",
              "        vertical-align: top;\n",
              "    }\n",
              "\n",
              "    .dataframe thead th {\n",
              "        text-align: right;\n",
              "    }\n",
              "</style>\n",
              "<table border=\"1\" class=\"dataframe\">\n",
              "  <thead>\n",
              "    <tr style=\"text-align: right;\">\n",
              "      <th></th>\n",
              "      <th>identifier_ric</th>\n",
              "      <th>company_name</th>\n",
              "      <th>country_of_exchange</th>\n",
              "      <th>trbc_economic_sector_name</th>\n",
              "      <th>organization_website</th>\n",
              "      <th>organization_founded_year</th>\n",
              "      <th>organization_email_domain</th>\n",
              "      <th>organization_founded_month</th>\n",
              "      <th>organization_founded_day</th>\n",
              "      <th>organization_status_code</th>\n",
              "      <th>...</th>\n",
              "      <th>mcap</th>\n",
              "      <th>net_income_before_taxes</th>\n",
              "      <th>pl_equity</th>\n",
              "      <th>r_d</th>\n",
              "      <th>revenue</th>\n",
              "      <th>roa</th>\n",
              "      <th>roe</th>\n",
              "      <th>total_assets</th>\n",
              "      <th>total_debts</th>\n",
              "      <th>turnover</th>\n",
              "    </tr>\n",
              "  </thead>\n",
              "  <tbody>\n",
              "    <tr>\n",
              "      <th>0</th>\n",
              "      <td>AALR3.SA</td>\n",
              "      <td>Centro de Imagem Diagnosticos SA</td>\n",
              "      <td>Brazil</td>\n",
              "      <td>Healthcare</td>\n",
              "      <td>https://centrodaimagem.com.br/</td>\n",
              "      <td>1992</td>\n",
              "      <td>centrodaimagem.com.br</td>\n",
              "      <td>8.0</td>\n",
              "      <td>5.0</td>\n",
              "      <td>Act</td>\n",
              "      <td>...</td>\n",
              "      <td>NaN</td>\n",
              "      <td>1.097426e+07</td>\n",
              "      <td>1.154547e+08</td>\n",
              "      <td>NaN</td>\n",
              "      <td>1.168168e+08</td>\n",
              "      <td>NaN</td>\n",
              "      <td>NaN</td>\n",
              "      <td>2.495719e+08</td>\n",
              "      <td>6.178508e+07</td>\n",
              "      <td>NaN</td>\n",
              "    </tr>\n",
              "    <tr>\n",
              "      <th>1</th>\n",
              "      <td>AALR3.SA</td>\n",
              "      <td>Centro de Imagem Diagnosticos SA</td>\n",
              "      <td>Brazil</td>\n",
              "      <td>Healthcare</td>\n",
              "      <td>https://centrodaimagem.com.br/</td>\n",
              "      <td>1992</td>\n",
              "      <td>centrodaimagem.com.br</td>\n",
              "      <td>8.0</td>\n",
              "      <td>5.0</td>\n",
              "      <td>Act</td>\n",
              "      <td>...</td>\n",
              "      <td>NaN</td>\n",
              "      <td>-2.111404e+06</td>\n",
              "      <td>2.797588e+08</td>\n",
              "      <td>NaN</td>\n",
              "      <td>1.479673e+08</td>\n",
              "      <td>NaN</td>\n",
              "      <td>NaN</td>\n",
              "      <td>5.509323e+08</td>\n",
              "      <td>1.243387e+08</td>\n",
              "      <td>NaN</td>\n",
              "    </tr>\n",
              "    <tr>\n",
              "      <th>2</th>\n",
              "      <td>AALR3.SA</td>\n",
              "      <td>Centro de Imagem Diagnosticos SA</td>\n",
              "      <td>Brazil</td>\n",
              "      <td>Healthcare</td>\n",
              "      <td>https://centrodaimagem.com.br/</td>\n",
              "      <td>1992</td>\n",
              "      <td>centrodaimagem.com.br</td>\n",
              "      <td>8.0</td>\n",
              "      <td>5.0</td>\n",
              "      <td>Act</td>\n",
              "      <td>...</td>\n",
              "      <td>5.174188e+08</td>\n",
              "      <td>1.759907e+06</td>\n",
              "      <td>1.808595e+08</td>\n",
              "      <td>NaN</td>\n",
              "      <td>1.767141e+08</td>\n",
              "      <td>NaN</td>\n",
              "      <td>NaN</td>\n",
              "      <td>3.880363e+08</td>\n",
              "      <td>1.175571e+08</td>\n",
              "      <td>1.652387e+06</td>\n",
              "    </tr>\n",
              "    <tr>\n",
              "      <th>3</th>\n",
              "      <td>AALR3.SA</td>\n",
              "      <td>Centro de Imagem Diagnosticos SA</td>\n",
              "      <td>Brazil</td>\n",
              "      <td>Healthcare</td>\n",
              "      <td>https://centrodaimagem.com.br/</td>\n",
              "      <td>1992</td>\n",
              "      <td>centrodaimagem.com.br</td>\n",
              "      <td>8.0</td>\n",
              "      <td>5.0</td>\n",
              "      <td>Act</td>\n",
              "      <td>...</td>\n",
              "      <td>5.285872e+08</td>\n",
              "      <td>1.064152e+07</td>\n",
              "      <td>3.607525e+08</td>\n",
              "      <td>NaN</td>\n",
              "      <td>2.924720e+08</td>\n",
              "      <td>NaN</td>\n",
              "      <td>0.0157</td>\n",
              "      <td>6.659019e+08</td>\n",
              "      <td>1.554307e+08</td>\n",
              "      <td>4.056800e+06</td>\n",
              "    </tr>\n",
              "    <tr>\n",
              "      <th>4</th>\n",
              "      <td>AALR3.SA</td>\n",
              "      <td>Centro de Imagem Diagnosticos SA</td>\n",
              "      <td>Brazil</td>\n",
              "      <td>Healthcare</td>\n",
              "      <td>https://centrodaimagem.com.br/</td>\n",
              "      <td>1992</td>\n",
              "      <td>centrodaimagem.com.br</td>\n",
              "      <td>8.0</td>\n",
              "      <td>5.0</td>\n",
              "      <td>Act</td>\n",
              "      <td>...</td>\n",
              "      <td>4.057513e+08</td>\n",
              "      <td>-2.392138e+06</td>\n",
              "      <td>3.681833e+08</td>\n",
              "      <td>NaN</td>\n",
              "      <td>3.254358e+08</td>\n",
              "      <td>NaN</td>\n",
              "      <td>0.0201</td>\n",
              "      <td>6.898901e+08</td>\n",
              "      <td>1.809281e+08</td>\n",
              "      <td>7.841954e+05</td>\n",
              "    </tr>\n",
              "  </tbody>\n",
              "</table>\n",
              "<p>5 rows × 25 columns</p>\n",
              "</div>\n",
              "      <button class=\"colab-df-convert\" onclick=\"convertToInteractive('df-ebd3a32c-daf7-459d-97b4-2d185235c60c')\"\n",
              "              title=\"Convert this dataframe to an interactive table.\"\n",
              "              style=\"display:none;\">\n",
              "        \n",
              "  <svg xmlns=\"http://www.w3.org/2000/svg\" height=\"24px\"viewBox=\"0 0 24 24\"\n",
              "       width=\"24px\">\n",
              "    <path d=\"M0 0h24v24H0V0z\" fill=\"none\"/>\n",
              "    <path d=\"M18.56 5.44l.94 2.06.94-2.06 2.06-.94-2.06-.94-.94-2.06-.94 2.06-2.06.94zm-11 1L8.5 8.5l.94-2.06 2.06-.94-2.06-.94L8.5 2.5l-.94 2.06-2.06.94zm10 10l.94 2.06.94-2.06 2.06-.94-2.06-.94-.94-2.06-.94 2.06-2.06.94z\"/><path d=\"M17.41 7.96l-1.37-1.37c-.4-.4-.92-.59-1.43-.59-.52 0-1.04.2-1.43.59L10.3 9.45l-7.72 7.72c-.78.78-.78 2.05 0 2.83L4 21.41c.39.39.9.59 1.41.59.51 0 1.02-.2 1.41-.59l7.78-7.78 2.81-2.81c.8-.78.8-2.07 0-2.86zM5.41 20L4 18.59l7.72-7.72 1.47 1.35L5.41 20z\"/>\n",
              "  </svg>\n",
              "      </button>\n",
              "      \n",
              "  <style>\n",
              "    .colab-df-container {\n",
              "      display:flex;\n",
              "      flex-wrap:wrap;\n",
              "      gap: 12px;\n",
              "    }\n",
              "\n",
              "    .colab-df-convert {\n",
              "      background-color: #E8F0FE;\n",
              "      border: none;\n",
              "      border-radius: 50%;\n",
              "      cursor: pointer;\n",
              "      display: none;\n",
              "      fill: #1967D2;\n",
              "      height: 32px;\n",
              "      padding: 0 0 0 0;\n",
              "      width: 32px;\n",
              "    }\n",
              "\n",
              "    .colab-df-convert:hover {\n",
              "      background-color: #E2EBFA;\n",
              "      box-shadow: 0px 1px 2px rgba(60, 64, 67, 0.3), 0px 1px 3px 1px rgba(60, 64, 67, 0.15);\n",
              "      fill: #174EA6;\n",
              "    }\n",
              "\n",
              "    [theme=dark] .colab-df-convert {\n",
              "      background-color: #3B4455;\n",
              "      fill: #D2E3FC;\n",
              "    }\n",
              "\n",
              "    [theme=dark] .colab-df-convert:hover {\n",
              "      background-color: #434B5C;\n",
              "      box-shadow: 0px 1px 3px 1px rgba(0, 0, 0, 0.15);\n",
              "      filter: drop-shadow(0px 1px 2px rgba(0, 0, 0, 0.3));\n",
              "      fill: #FFFFFF;\n",
              "    }\n",
              "  </style>\n",
              "\n",
              "      <script>\n",
              "        const buttonEl =\n",
              "          document.querySelector('#df-ebd3a32c-daf7-459d-97b4-2d185235c60c button.colab-df-convert');\n",
              "        buttonEl.style.display =\n",
              "          google.colab.kernel.accessAllowed ? 'block' : 'none';\n",
              "\n",
              "        async function convertToInteractive(key) {\n",
              "          const element = document.querySelector('#df-ebd3a32c-daf7-459d-97b4-2d185235c60c');\n",
              "          const dataTable =\n",
              "            await google.colab.kernel.invokeFunction('convertToInteractive',\n",
              "                                                     [key], {});\n",
              "          if (!dataTable) return;\n",
              "\n",
              "          const docLinkHtml = 'Like what you see? Visit the ' +\n",
              "            '<a target=\"_blank\" href=https://colab.research.google.com/notebooks/data_table.ipynb>data table notebook</a>'\n",
              "            + ' to learn more about interactive tables.';\n",
              "          element.innerHTML = '';\n",
              "          dataTable['output_type'] = 'display_data';\n",
              "          await google.colab.output.renderOutput(dataTable, element);\n",
              "          const docLink = document.createElement('div');\n",
              "          docLink.innerHTML = docLinkHtml;\n",
              "          element.appendChild(docLink);\n",
              "        }\n",
              "      </script>\n",
              "    </div>\n",
              "  </div>\n",
              "  "
            ]
          },
          "metadata": {},
          "execution_count": 65
        }
      ]
    },
    {
      "cell_type": "code",
      "source": [
        "#Connecting to Cloud SDK - to write data into BigQuery tables\n",
        "from google.colab import auth\n",
        "auth.authenticate_user()\n",
        "print('Authenticated')"
      ],
      "metadata": {
        "colab": {
          "base_uri": "https://localhost:8080/"
        },
        "id": "2Ecry6Jt9U1T",
        "outputId": "d5f85293-3b42-4462-d996-d125b4b9883b"
      },
      "execution_count": null,
      "outputs": [
        {
          "output_type": "stream",
          "name": "stdout",
          "text": [
            "Authenticated\n"
          ]
        }
      ]
    },
    {
      "cell_type": "code",
      "source": [
        "# Writing into BigQuery\n",
        "df_pivoted.to_gbq(destination_table='refinitiv_eikon.pivoted_processed_data_all',\n",
        "                             project_id='mello-dissertation-database',\n",
        "                             if_exists='replace')"
      ],
      "metadata": {
        "colab": {
          "base_uri": "https://localhost:8080/"
        },
        "id": "AwfTH8sA9acn",
        "outputId": "a12d34cd-bdcc-4726-af78-61cac101761a"
      },
      "execution_count": null,
      "outputs": [
        {
          "output_type": "stream",
          "name": "stderr",
          "text": [
            "100%|██████████| 1/1 [00:00<00:00, 1683.78it/s]\n"
          ]
        }
      ]
    }
  ]
}